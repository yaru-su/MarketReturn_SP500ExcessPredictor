{
 "cells": [
  {
   "metadata": {},
   "cell_type": "markdown",
   "source": "# Load the Library",
   "id": "3564526a200b1f1"
  },
  {
   "cell_type": "code",
   "id": "initial_id",
   "metadata": {
    "collapsed": true,
    "ExecuteTime": {
     "end_time": "2025-10-05T22:59:32.902009Z",
     "start_time": "2025-10-05T22:59:32.898399Z"
    }
   },
   "source": [
    "import os\n",
    "from pathlib import Path\n",
    "import datetime\n",
    "\n",
    "from tqdm import tqdm\n",
    "from dataclasses import dataclass, asdict\n",
    "\n",
    "import polars as pl\n",
    "import numpy as np\n",
    "from sklearn.linear_model import ElasticNet, ElasticNetCV, LinearRegression\n",
    "from sklearn.preprocessing import StandardScaler"
   ],
   "outputs": [],
   "execution_count": 29
  },
  {
   "metadata": {},
   "cell_type": "markdown",
   "source": "# Review the Dataset",
   "id": "90bb3cc2ecccb96"
  },
  {
   "metadata": {
    "ExecuteTime": {
     "end_time": "2025-10-05T22:59:32.974633Z",
     "start_time": "2025-10-05T22:59:32.907848Z"
    }
   },
   "cell_type": "code",
   "source": [
    "import pandas as pd\n",
    "\n",
    "train = pd.read_csv(\"/Users/yarusu/Library/CloudStorage/OneDrive-UCSanDiego/DS/SP500ExcessPredictor/train.csv\")\n",
    "test = pd.read_csv(\"/Users/yarusu/Library/CloudStorage/OneDrive-UCSanDiego/DS/SP500ExcessPredictor/test.csv\")\n",
    "\n",
    "print(train.shape)\n",
    "print(test.shape)"
   ],
   "id": "de83dbfc9c57b3c5",
   "outputs": [
    {
     "name": "stdout",
     "output_type": "stream",
     "text": [
      "(8990, 98)\n",
      "(10, 99)\n"
     ]
    }
   ],
   "execution_count": 30
  },
  {
   "metadata": {
    "ExecuteTime": {
     "end_time": "2025-10-05T22:59:32.991486Z",
     "start_time": "2025-10-05T22:59:32.988874Z"
    }
   },
   "cell_type": "code",
   "source": [
    "print(train.columns.tolist)\n",
    "print(test.columns.tolist)"
   ],
   "id": "42723dd14ae947d4",
   "outputs": [
    {
     "name": "stdout",
     "output_type": "stream",
     "text": [
      "<bound method IndexOpsMixin.tolist of Index(['date_id', 'D1', 'D2', 'D3', 'D4', 'D5', 'D6', 'D7', 'D8', 'D9', 'E1',\n",
      "       'E10', 'E11', 'E12', 'E13', 'E14', 'E15', 'E16', 'E17', 'E18', 'E19',\n",
      "       'E2', 'E20', 'E3', 'E4', 'E5', 'E6', 'E7', 'E8', 'E9', 'I1', 'I2', 'I3',\n",
      "       'I4', 'I5', 'I6', 'I7', 'I8', 'I9', 'M1', 'M10', 'M11', 'M12', 'M13',\n",
      "       'M14', 'M15', 'M16', 'M17', 'M18', 'M2', 'M3', 'M4', 'M5', 'M6', 'M7',\n",
      "       'M8', 'M9', 'P1', 'P10', 'P11', 'P12', 'P13', 'P2', 'P3', 'P4', 'P5',\n",
      "       'P6', 'P7', 'P8', 'P9', 'S1', 'S10', 'S11', 'S12', 'S2', 'S3', 'S4',\n",
      "       'S5', 'S6', 'S7', 'S8', 'S9', 'V1', 'V10', 'V11', 'V12', 'V13', 'V2',\n",
      "       'V3', 'V4', 'V5', 'V6', 'V7', 'V8', 'V9', 'forward_returns',\n",
      "       'risk_free_rate', 'market_forward_excess_returns'],\n",
      "      dtype='object')>\n",
      "<bound method IndexOpsMixin.tolist of Index(['date_id', 'D1', 'D2', 'D3', 'D4', 'D5', 'D6', 'D7', 'D8', 'D9', 'E1',\n",
      "       'E10', 'E11', 'E12', 'E13', 'E14', 'E15', 'E16', 'E17', 'E18', 'E19',\n",
      "       'E2', 'E20', 'E3', 'E4', 'E5', 'E6', 'E7', 'E8', 'E9', 'I1', 'I2', 'I3',\n",
      "       'I4', 'I5', 'I6', 'I7', 'I8', 'I9', 'M1', 'M10', 'M11', 'M12', 'M13',\n",
      "       'M14', 'M15', 'M16', 'M17', 'M18', 'M2', 'M3', 'M4', 'M5', 'M6', 'M7',\n",
      "       'M8', 'M9', 'P1', 'P10', 'P11', 'P12', 'P13', 'P2', 'P3', 'P4', 'P5',\n",
      "       'P6', 'P7', 'P8', 'P9', 'S1', 'S10', 'S11', 'S12', 'S2', 'S3', 'S4',\n",
      "       'S5', 'S6', 'S7', 'S8', 'S9', 'V1', 'V10', 'V11', 'V12', 'V13', 'V2',\n",
      "       'V3', 'V4', 'V5', 'V6', 'V7', 'V8', 'V9', 'is_scored',\n",
      "       'lagged_forward_returns', 'lagged_risk_free_rate',\n",
      "       'lagged_market_forward_excess_returns'],\n",
      "      dtype='object')>\n"
     ]
    }
   ],
   "execution_count": 31
  },
  {
   "metadata": {},
   "cell_type": "markdown",
   "source": [
    "### Dataset Variable Explanation\n",
    "\n",
    "The dataset contains historical market, macroeconomic, and technical features. Below is a description of the columns:\n",
    "\n",
    "| Column | Description |\n",
    "|:-------|:------------|\n",
    "| `date_id` | Identifier for each trading day |\n",
    "| `D1`–`D9` | Dummy / binary features |\n",
    "| `E1`–`E20` | Macroeconomic features |\n",
    "| `I1`–`I9` | Interest rate related features |\n",
    "| `M1`–`M18` | Market dynamics / technical features |\n",
    "| `P1`–`P13` | Price / valuation features |\n",
    "| `S1`–`S12` | Sentiment features |\n",
    "| `V1`–`V13` | Volatility features |\n",
    "| `MOM*` | Momentum features (if present) |\n",
    "| `forward_returns` | Next-day return of buying S&P 500 index (training set only) |\n",
    "| `risk_free_rate` | Federal funds rate (training set only) |\n",
    "| `market_forward_excess_returns` | Excess forward returns relative to expected, winsorized by MAD 4 (training set only) |\n",
    "| `is_scored` | Indicator whether the sample should be scored/predicted (test set only) |\n",
    "| `lagged_forward_returns` | Forward return of previous day (test set only) |\n",
    "| `lagged_risk_free_rate` | Lagged federal funds rate (test set only) |\n",
    "| `lagged_market_forward_excess_returns` | Lagged excess forward returns (test set only) |"
   ],
   "id": "30697b11853dbbf2"
  },
  {
   "metadata": {},
   "cell_type": "markdown",
   "source": "# Configurations",
   "id": "a083e9a7b7ed1811"
  },
  {
   "metadata": {
    "ExecuteTime": {
     "end_time": "2025-10-05T22:59:33.001109Z",
     "start_time": "2025-10-05T22:59:32.998386Z"
    }
   },
   "cell_type": "code",
   "source": [
    "from pathlib import Path\n",
    "import numpy as np\n",
    "\n",
    "# PATHS: change this to the folder where train.csv and test.csv are stored locally\n",
    "DATA_PATH: Path = Path('/Users/yarusu/Library/CloudStorage/OneDrive-UCSanDiego/DS/SP500ExcessPredictor/')\n",
    "\n",
    "# RETURNS TO SIGNAL CONFIGS: Translates continuous predictions (returns) into practical signals that control position size.\n",
    "MIN_SIGNAL: float = 0.0                         # Minimum daily trading signal (prevents over-short positions)\n",
    "MAX_SIGNAL: float = 2.0                         # Maximum daily trading signal (prevents over-long positions)\n",
    "SIGNAL_MULTIPLIER: float = 400.0                # Factor to scale predicted excess returns into actionable trading signals\n",
    "\n",
    "# MODEL CONFIGS\n",
    "CV: int = 10                                    # Number of cross-validation folds\n",
    "L1_RATIO: float = 0.5                           # Mixing ratio between L1 and L2 regularization\n",
    "ALPHAS: np.ndarray = np.logspace(-4, 2, 100)    # Candidate values for regularization strength\n",
    "MAX_ITER: int = 1_000_000                       # Maximum number of iterations to prevent non-convergence"
   ],
   "id": "1716edc2279095b5",
   "outputs": [],
   "execution_count": 32
  },
  {
   "metadata": {},
   "cell_type": "markdown",
   "source": "# Dataclasses Helpers",
   "id": "7afb5778924337ca"
  },
  {
   "metadata": {
    "ExecuteTime": {
     "end_time": "2025-10-05T22:59:33.008007Z",
     "start_time": "2025-10-05T22:59:33.004847Z"
    }
   },
   "cell_type": "code",
   "source": [
    "@dataclass\n",
    "class DatasetOutput:\n",
    "    X_train : pl.DataFrame\n",
    "    X_test: pl.DataFrame\n",
    "    y_train: pl.Series\n",
    "    y_test: pl.Series\n",
    "    scaler: StandardScaler\n",
    "\n",
    "@dataclass\n",
    "class ElasticNetParameters:\n",
    "    l1_ratio : float\n",
    "    cv: int\n",
    "    alphas: np.ndarray\n",
    "    max_iter: int\n",
    "\n",
    "    def __post_init__(self):\n",
    "        if self.l1_ratio < 0 or self.l1_ratio > 1:\n",
    "            raise ValueError(\"Wrong initializing value for ElasticNet l1_ratio\")\n",
    "\n",
    "@dataclass(frozen=True)\n",
    "class RetToSignalParameters:\n",
    "    signal_multiplier: float\n",
    "    min_signal : float = MIN_SIGNAL\n",
    "    max_signal : float = MAX_SIGNAL"
   ],
   "id": "34d5a74c2235d59",
   "outputs": [],
   "execution_count": 33
  },
  {
   "metadata": {},
   "cell_type": "markdown",
   "source": "# Set the Parameters",
   "id": "224891f1661d6a0e"
  },
  {
   "metadata": {
    "ExecuteTime": {
     "end_time": "2025-10-05T22:59:33.012979Z",
     "start_time": "2025-10-05T22:59:33.010608Z"
    }
   },
   "cell_type": "code",
   "source": [
    "ret_signal_params = RetToSignalParameters(\n",
    "    signal_multiplier= SIGNAL_MULTIPLIER\n",
    ")\n",
    "\n",
    "enet_params = ElasticNetParameters(\n",
    "    l1_ratio = L1_RATIO,\n",
    "    cv = CV,\n",
    "    alphas = ALPHAS,\n",
    "    max_iter = MAX_ITER\n",
    ")"
   ],
   "id": "d4f10a5adab17642",
   "outputs": [],
   "execution_count": 34
  },
  {
   "metadata": {},
   "cell_type": "markdown",
   "source": "# Data Processing",
   "id": "b4f0c7428b37ee8c"
  },
  {
   "metadata": {
    "ExecuteTime": {
     "end_time": "2025-10-05T22:59:33.019176Z",
     "start_time": "2025-10-05T22:59:33.016686Z"
    }
   },
   "cell_type": "code",
   "source": [
    "def load_trainset() -> pl.DataFrame:\n",
    "    \"\"\"\n",
    "    Loads and preprocesses the training dataset.\n",
    "\n",
    "    Returns:\n",
    "        pl.DataFrame: The preprocessed training DataFrame.\n",
    "    \"\"\"\n",
    "    return (\n",
    "        pl.read_csv(DATA_PATH / \"train.csv\")\n",
    "        .rename({'market_forward_excess_returns':'target'})\n",
    "        .with_columns(\n",
    "            pl.exclude('date_id').cast(pl.Float64, strict=False)\n",
    "        )\n",
    "        .head(-10)\n",
    "    )\n",
    "\n",
    "def load_testset() -> pl.DataFrame:\n",
    "    \"\"\"\n",
    "    Loads and preprocesses the testing dataset.\n",
    "\n",
    "    Returns:\n",
    "        pl.DataFrame: The preprocessed testing DataFrame.\n",
    "    \"\"\"\n",
    "    return (\n",
    "        pl.read_csv(DATA_PATH / \"test.csv\")\n",
    "        .rename({'lagged_forward_returns':'target'})\n",
    "        .with_columns(\n",
    "            pl.exclude('date_id').cast(pl.Float64, strict=False)\n",
    "        )\n",
    "    )"
   ],
   "id": "dd08eccc384d0262",
   "outputs": [],
   "execution_count": 35
  },
  {
   "metadata": {},
   "cell_type": "markdown",
   "source": "# Creating Helper Functions",
   "id": "740335b2a412f01"
  },
  {
   "metadata": {},
   "cell_type": "markdown",
   "source": [
    "Create new features and preprocess the input DataFrame for modeling.\n",
    "\n",
    "This function performs the following steps:\n",
    "   1. Creates new derived features (U1 and U2) from existing columns.\n",
    "   2. Selects a subset of relevant columns for modeling.\n",
    "   3. Fills missing values in the selected features using exponential weighted moving average (EWMA) to smooth time-series data.\n",
    "   4. Drops any remaining rows with null values."
   ],
   "id": "80fd1f595ad569b1"
  },
  {
   "metadata": {
    "ExecuteTime": {
     "end_time": "2025-10-05T22:59:33.024109Z",
     "start_time": "2025-10-05T22:59:33.021810Z"
    }
   },
   "cell_type": "code",
   "source": [
    "def create_example_dataset(df: pl.DataFrame) -> pl.DataFrame:\n",
    "    vars_to_keep: list[str] = [\n",
    "        \"S2\", \"E2\", \"E3\", \"P9\", \"S1\", \"S5\", \"I2\", \"P8\",\n",
    "        \"P10\", \"P12\", \"P13\", \"V1\", \"V2\"\n",
    "    ]\n",
    "\n",
    "    return (\n",
    "        df.select([\"date_id\", \"target\"] + vars_to_keep)\n",
    "        .with_columns([\n",
    "            pl.col(col).fill_null(pl.col(col).ewm_mean(com=0.5))\n",
    "            for col in vars_to_keep\n",
    "        ])\n",
    "        .drop_nulls()\n",
    "    )"
   ],
   "id": "41d52ac93b527997",
   "outputs": [],
   "execution_count": 36
  },
  {
   "metadata": {},
   "cell_type": "markdown",
   "source": "Merge training and testing DataFrames by keeping only common columns and stacking them vertically to create a single combined dataset.",
   "id": "7d5c5b6629876507"
  },
  {
   "metadata": {
    "ExecuteTime": {
     "end_time": "2025-10-05T22:59:33.028371Z",
     "start_time": "2025-10-05T22:59:33.026399Z"
    }
   },
   "cell_type": "code",
   "source": [
    "def join_train_test_dataframes(train: pl.DataFrame, test: pl.DataFrame) -> pl.DataFrame:\n",
    "    common_columns: list[str] = [col for col in train.columns if col in test.columns]\n",
    "\n",
    "    # Select only common columns and concatenate the two DataFrames vertically\n",
    "    return pl.concat(\n",
    "        [train.select(common_columns), test.select(common_columns)],\n",
    "        how=\"vertical\"\n",
    "    )"
   ],
   "id": "e05f8a3c9762799b",
   "outputs": [],
   "execution_count": 37
  },
  {
   "metadata": {},
   "cell_type": "markdown",
   "source": [
    "Prepare the training and testing datasets for modeling by separating features and target, and scaling the feature values.\n",
    "\n",
    "Steps performed:\n",
    "   1. Split the input DataFrames into features (X) and target (y).\n",
    "   2. Drop non-feature columns ('date_id' and 'target').\n",
    "   3. Scale the feature values using StandardScaler (zero mean, unit variance).\n",
    "   4. Convert the scaled numpy arrays back to Polars DataFrames, preserving feature names."
   ],
   "id": "e0c7c1107a8ea1b3"
  },
  {
   "metadata": {
    "ExecuteTime": {
     "end_time": "2025-10-05T22:59:33.034616Z",
     "start_time": "2025-10-05T22:59:33.032128Z"
    }
   },
   "cell_type": "code",
   "source": [
    "def split_dataset(train: pl.DataFrame, test: pl.DataFrame, features: list[str]) -> DatasetOutput:\n",
    "    # Separate features and target\n",
    "    X_train = train.drop(['date_id','target'])\n",
    "    y_train = train.get_column('target')\n",
    "    X_test = test.drop(['date_id','target'])\n",
    "    y_test = test.get_column('target')\n",
    "\n",
    "    # Fit scaler on training features and transform both train and test\n",
    "    scaler = StandardScaler()\n",
    "    X_train_scaled_np = scaler.fit_transform(X_train)\n",
    "    X_train = pl.from_numpy(X_train_scaled_np, schema=features)\n",
    "\n",
    "    X_test_scaled_np = scaler.transform(X_test)\n",
    "    X_test = pl.from_numpy(X_test_scaled_np, schema=features)\n",
    "\n",
    "    # Return all prepared data in a single dataclass\n",
    "    return DatasetOutput(\n",
    "        X_train = X_train,\n",
    "        y_train = y_train,\n",
    "        X_test = X_test,\n",
    "        y_test = y_test,\n",
    "        scaler = scaler\n",
    "    )"
   ],
   "id": "c9bcd5449a96caea",
   "outputs": [],
   "execution_count": 38
  },
  {
   "metadata": {},
   "cell_type": "markdown",
   "source": "# Converting Return Prediction to Signal",
   "id": "3038debbf4762e25"
  },
  {
   "metadata": {},
   "cell_type": "markdown",
   "source": "Converts raw model predictions (expected returns) into a trading signal.",
   "id": "6fb6b45833377503"
  },
  {
   "metadata": {
    "ExecuteTime": {
     "end_time": "2025-10-05T22:59:33.039440Z",
     "start_time": "2025-10-05T22:59:33.037218Z"
    }
   },
   "cell_type": "code",
   "source": [
    "def convert_ret_to_signal(\n",
    "    ret_arr: np.ndarray,\n",
    "    params: RetToSignalParameters\n",
    ") -> np.ndarray:\n",
    "    # Scale the predicted returns, shift by 1 to make \"no position\" as 1,\n",
    "    # then clip the values to be within the min and max signal bounds\n",
    "    return np.clip(\n",
    "        ret_arr * params.signal_multiplier + 1,  # scale & shift\n",
    "        params.min_signal,                       # minimum allowed signal\n",
    "        params.max_signal                        # maximum allowed signal\n",
    "    )"
   ],
   "id": "88cc9488eebc79c4",
   "outputs": [],
   "execution_count": 39
  },
  {
   "metadata": {},
   "cell_type": "markdown",
   "source": "Example:",
   "id": "b6cb758cd7629f31"
  },
  {
   "metadata": {
    "ExecuteTime": {
     "end_time": "2025-10-05T22:59:33.049469Z",
     "start_time": "2025-10-05T22:59:33.044603Z"
    }
   },
   "cell_type": "code",
   "source": [
    "import numpy as np\n",
    "\n",
    "predicted_returns = np.array([0.002, -0.001, 0.005])\n",
    "params = RetToSignalParameters(signal_multiplier=400, min_signal=0, max_signal=2)\n",
    "\n",
    "signals = convert_ret_to_signal(predicted_returns, params)\n",
    "print(signals)"
   ],
   "id": "a416bf89bd510fe6",
   "outputs": [
    {
     "name": "stdout",
     "output_type": "stream",
     "text": [
      "[1.8 0.6 2. ]\n"
     ]
    }
   ],
   "execution_count": 40
  },
  {
   "metadata": {},
   "cell_type": "markdown",
   "source": [
    "| Explanation | Signal Value | Meaning |\n",
    "|-------------|--------------|---------|\n",
    "| Signal less than 1 indicates a short position; the magnitude shows the strength. | 0.6 | Sell signal (weak short) |\n",
    "| Signal equal to 1 means no trading action is taken. | 1.0 | No position (neutral) |\n",
    "| Signal greater than 1 indicates a long position; the magnitude shows the strength. | 1.8 | Buy signal (medium strength long) |\n",
    "| Signal is clipped at max_signal, representing the strongest allowable long position. | 2.0 | Maximum buy signal (strongest long) |"
   ],
   "id": "a824671375c23155"
  },
  {
   "metadata": {},
   "cell_type": "markdown",
   "source": "# Looking at the Data",
   "id": "a16ebee1d8c61176"
  },
  {
   "metadata": {
    "ExecuteTime": {
     "end_time": "2025-10-05T22:59:33.106008Z",
     "start_time": "2025-10-05T22:59:33.054909Z"
    }
   },
   "cell_type": "code",
   "source": [
    "train: pl.DataFrame = load_trainset()\n",
    "test: pl.DataFrame = load_testset()\n",
    "train.head(3)"
   ],
   "id": "384e107543551833",
   "outputs": [
    {
     "data": {
      "text/plain": [
       "shape: (3, 98)\n",
       "┌─────────┬─────┬─────┬─────┬───┬──────┬─────────────────┬────────────────┬───────────┐\n",
       "│ date_id ┆ D1  ┆ D2  ┆ D3  ┆ … ┆ V9   ┆ forward_returns ┆ risk_free_rate ┆ target    │\n",
       "│ ---     ┆ --- ┆ --- ┆ --- ┆   ┆ ---  ┆ ---             ┆ ---            ┆ ---       │\n",
       "│ i64     ┆ f64 ┆ f64 ┆ f64 ┆   ┆ f64  ┆ f64             ┆ f64            ┆ f64       │\n",
       "╞═════════╪═════╪═════╪═════╪═══╪══════╪═════════════════╪════════════════╪═══════════╡\n",
       "│ 0       ┆ 0.0 ┆ 0.0 ┆ 0.0 ┆ … ┆ null ┆ -0.002421       ┆ 0.000301       ┆ -0.003038 │\n",
       "│ 1       ┆ 0.0 ┆ 0.0 ┆ 0.0 ┆ … ┆ null ┆ -0.008495       ┆ 0.000303       ┆ -0.009114 │\n",
       "│ 2       ┆ 0.0 ┆ 0.0 ┆ 0.0 ┆ … ┆ null ┆ -0.009624       ┆ 0.000301       ┆ -0.010243 │\n",
       "└─────────┴─────┴─────┴─────┴───┴──────┴─────────────────┴────────────────┴───────────┘"
      ],
      "text/html": [
       "<div><style>\n",
       ".dataframe > thead > tr,\n",
       ".dataframe > tbody > tr {\n",
       "  text-align: right;\n",
       "  white-space: pre-wrap;\n",
       "}\n",
       "</style>\n",
       "<small>shape: (3, 98)</small><table border=\"1\" class=\"dataframe\"><thead><tr><th>date_id</th><th>D1</th><th>D2</th><th>D3</th><th>D4</th><th>D5</th><th>D6</th><th>D7</th><th>D8</th><th>D9</th><th>E1</th><th>E10</th><th>E11</th><th>E12</th><th>E13</th><th>E14</th><th>E15</th><th>E16</th><th>E17</th><th>E18</th><th>E19</th><th>E2</th><th>E20</th><th>E3</th><th>E4</th><th>E5</th><th>E6</th><th>E7</th><th>E8</th><th>E9</th><th>I1</th><th>I2</th><th>I3</th><th>I4</th><th>I5</th><th>I6</th><th>I7</th><th>&hellip;</th><th>P13</th><th>P2</th><th>P3</th><th>P4</th><th>P5</th><th>P6</th><th>P7</th><th>P8</th><th>P9</th><th>S1</th><th>S10</th><th>S11</th><th>S12</th><th>S2</th><th>S3</th><th>S4</th><th>S5</th><th>S6</th><th>S7</th><th>S8</th><th>S9</th><th>V1</th><th>V10</th><th>V11</th><th>V12</th><th>V13</th><th>V2</th><th>V3</th><th>V4</th><th>V5</th><th>V6</th><th>V7</th><th>V8</th><th>V9</th><th>forward_returns</th><th>risk_free_rate</th><th>target</th></tr><tr><td>i64</td><td>f64</td><td>f64</td><td>f64</td><td>f64</td><td>f64</td><td>f64</td><td>f64</td><td>f64</td><td>f64</td><td>f64</td><td>f64</td><td>f64</td><td>f64</td><td>f64</td><td>f64</td><td>f64</td><td>f64</td><td>f64</td><td>f64</td><td>f64</td><td>f64</td><td>f64</td><td>f64</td><td>f64</td><td>f64</td><td>f64</td><td>f64</td><td>f64</td><td>f64</td><td>f64</td><td>f64</td><td>f64</td><td>f64</td><td>f64</td><td>f64</td><td>f64</td><td>&hellip;</td><td>f64</td><td>f64</td><td>f64</td><td>f64</td><td>f64</td><td>f64</td><td>f64</td><td>f64</td><td>f64</td><td>f64</td><td>f64</td><td>f64</td><td>f64</td><td>f64</td><td>f64</td><td>f64</td><td>f64</td><td>f64</td><td>f64</td><td>f64</td><td>f64</td><td>f64</td><td>f64</td><td>f64</td><td>f64</td><td>f64</td><td>f64</td><td>f64</td><td>f64</td><td>f64</td><td>f64</td><td>f64</td><td>f64</td><td>f64</td><td>f64</td><td>f64</td><td>f64</td></tr></thead><tbody><tr><td>0</td><td>0.0</td><td>0.0</td><td>0.0</td><td>1.0</td><td>1.0</td><td>0.0</td><td>0.0</td><td>0.0</td><td>1.0</td><td>null</td><td>null</td><td>null</td><td>null</td><td>null</td><td>null</td><td>null</td><td>null</td><td>null</td><td>null</td><td>null</td><td>null</td><td>null</td><td>null</td><td>null</td><td>null</td><td>null</td><td>null</td><td>null</td><td>null</td><td>null</td><td>null</td><td>null</td><td>null</td><td>null</td><td>null</td><td>null</td><td>&hellip;</td><td>null</td><td>null</td><td>null</td><td>null</td><td>null</td><td>null</td><td>null</td><td>null</td><td>null</td><td>null</td><td>null</td><td>null</td><td>null</td><td>null</td><td>null</td><td>null</td><td>null</td><td>null</td><td>null</td><td>null</td><td>null</td><td>null</td><td>null</td><td>null</td><td>null</td><td>null</td><td>null</td><td>null</td><td>null</td><td>null</td><td>null</td><td>null</td><td>null</td><td>null</td><td>-0.002421</td><td>0.000301</td><td>-0.003038</td></tr><tr><td>1</td><td>0.0</td><td>0.0</td><td>0.0</td><td>1.0</td><td>1.0</td><td>0.0</td><td>0.0</td><td>0.0</td><td>1.0</td><td>null</td><td>null</td><td>null</td><td>null</td><td>null</td><td>null</td><td>null</td><td>null</td><td>null</td><td>null</td><td>null</td><td>null</td><td>null</td><td>null</td><td>null</td><td>null</td><td>null</td><td>null</td><td>null</td><td>null</td><td>null</td><td>null</td><td>null</td><td>null</td><td>null</td><td>null</td><td>null</td><td>&hellip;</td><td>null</td><td>null</td><td>null</td><td>null</td><td>null</td><td>null</td><td>null</td><td>null</td><td>null</td><td>null</td><td>null</td><td>null</td><td>null</td><td>null</td><td>null</td><td>null</td><td>null</td><td>null</td><td>null</td><td>null</td><td>null</td><td>null</td><td>null</td><td>null</td><td>null</td><td>null</td><td>null</td><td>null</td><td>null</td><td>null</td><td>null</td><td>null</td><td>null</td><td>null</td><td>-0.008495</td><td>0.000303</td><td>-0.009114</td></tr><tr><td>2</td><td>0.0</td><td>0.0</td><td>0.0</td><td>1.0</td><td>0.0</td><td>0.0</td><td>0.0</td><td>0.0</td><td>1.0</td><td>null</td><td>null</td><td>null</td><td>null</td><td>null</td><td>null</td><td>null</td><td>null</td><td>null</td><td>null</td><td>null</td><td>null</td><td>null</td><td>null</td><td>null</td><td>null</td><td>null</td><td>null</td><td>null</td><td>null</td><td>null</td><td>null</td><td>null</td><td>null</td><td>null</td><td>null</td><td>null</td><td>&hellip;</td><td>null</td><td>null</td><td>null</td><td>null</td><td>null</td><td>null</td><td>null</td><td>null</td><td>null</td><td>null</td><td>null</td><td>null</td><td>null</td><td>null</td><td>null</td><td>null</td><td>null</td><td>null</td><td>null</td><td>null</td><td>null</td><td>null</td><td>null</td><td>null</td><td>null</td><td>null</td><td>null</td><td>null</td><td>null</td><td>null</td><td>null</td><td>null</td><td>null</td><td>null</td><td>-0.009624</td><td>0.000301</td><td>-0.010243</td></tr></tbody></table></div>"
      ]
     },
     "execution_count": 41,
     "metadata": {},
     "output_type": "execute_result"
    }
   ],
   "execution_count": 41
  },
  {
   "metadata": {
    "ExecuteTime": {
     "end_time": "2025-10-05T22:59:33.116217Z",
     "start_time": "2025-10-05T22:59:33.110212Z"
    }
   },
   "cell_type": "code",
   "source": "test.head(3)",
   "id": "9bef50a7bc94abb9",
   "outputs": [
    {
     "data": {
      "text/plain": [
       "shape: (3, 99)\n",
       "┌─────────┬─────┬─────┬─────┬───┬───────────┬───────────┬─────────────────────┬────────────────────┐\n",
       "│ date_id ┆ D1  ┆ D2  ┆ D3  ┆ … ┆ is_scored ┆ target    ┆ lagged_risk_free_ra ┆ lagged_market_forw │\n",
       "│ ---     ┆ --- ┆ --- ┆ --- ┆   ┆ ---       ┆ ---       ┆ te                  ┆ ard_excess_r…      │\n",
       "│ i64     ┆ f64 ┆ f64 ┆ f64 ┆   ┆ f64       ┆ f64       ┆ ---                 ┆ ---                │\n",
       "│         ┆     ┆     ┆     ┆   ┆           ┆           ┆ f64                 ┆ f64                │\n",
       "╞═════════╪═════╪═════╪═════╪═══╪═══════════╪═══════════╪═════════════════════╪════════════════════╡\n",
       "│ 8980    ┆ 0.0 ┆ 0.0 ┆ 0.0 ┆ … ┆ 1.0       ┆ 0.003541  ┆ 0.000161            ┆ 0.003068           │\n",
       "│ 8981    ┆ 0.0 ┆ 0.0 ┆ 0.0 ┆ … ┆ 1.0       ┆ -0.005964 ┆ 0.000162            ┆ -0.006437          │\n",
       "│ 8982    ┆ 0.0 ┆ 0.0 ┆ 0.0 ┆ … ┆ 1.0       ┆ -0.00741  ┆ 0.00016             ┆ -0.007882          │\n",
       "└─────────┴─────┴─────┴─────┴───┴───────────┴───────────┴─────────────────────┴────────────────────┘"
      ],
      "text/html": [
       "<div><style>\n",
       ".dataframe > thead > tr,\n",
       ".dataframe > tbody > tr {\n",
       "  text-align: right;\n",
       "  white-space: pre-wrap;\n",
       "}\n",
       "</style>\n",
       "<small>shape: (3, 99)</small><table border=\"1\" class=\"dataframe\"><thead><tr><th>date_id</th><th>D1</th><th>D2</th><th>D3</th><th>D4</th><th>D5</th><th>D6</th><th>D7</th><th>D8</th><th>D9</th><th>E1</th><th>E10</th><th>E11</th><th>E12</th><th>E13</th><th>E14</th><th>E15</th><th>E16</th><th>E17</th><th>E18</th><th>E19</th><th>E2</th><th>E20</th><th>E3</th><th>E4</th><th>E5</th><th>E6</th><th>E7</th><th>E8</th><th>E9</th><th>I1</th><th>I2</th><th>I3</th><th>I4</th><th>I5</th><th>I6</th><th>I7</th><th>&hellip;</th><th>P2</th><th>P3</th><th>P4</th><th>P5</th><th>P6</th><th>P7</th><th>P8</th><th>P9</th><th>S1</th><th>S10</th><th>S11</th><th>S12</th><th>S2</th><th>S3</th><th>S4</th><th>S5</th><th>S6</th><th>S7</th><th>S8</th><th>S9</th><th>V1</th><th>V10</th><th>V11</th><th>V12</th><th>V13</th><th>V2</th><th>V3</th><th>V4</th><th>V5</th><th>V6</th><th>V7</th><th>V8</th><th>V9</th><th>is_scored</th><th>target</th><th>lagged_risk_free_rate</th><th>lagged_market_forward_excess_returns</th></tr><tr><td>i64</td><td>f64</td><td>f64</td><td>f64</td><td>f64</td><td>f64</td><td>f64</td><td>f64</td><td>f64</td><td>f64</td><td>f64</td><td>f64</td><td>f64</td><td>f64</td><td>f64</td><td>f64</td><td>f64</td><td>f64</td><td>f64</td><td>f64</td><td>f64</td><td>f64</td><td>f64</td><td>f64</td><td>f64</td><td>f64</td><td>f64</td><td>f64</td><td>f64</td><td>f64</td><td>f64</td><td>f64</td><td>f64</td><td>f64</td><td>f64</td><td>f64</td><td>f64</td><td>&hellip;</td><td>f64</td><td>f64</td><td>f64</td><td>f64</td><td>f64</td><td>f64</td><td>f64</td><td>f64</td><td>f64</td><td>f64</td><td>f64</td><td>f64</td><td>f64</td><td>f64</td><td>f64</td><td>f64</td><td>f64</td><td>f64</td><td>f64</td><td>f64</td><td>f64</td><td>f64</td><td>f64</td><td>f64</td><td>f64</td><td>f64</td><td>f64</td><td>f64</td><td>f64</td><td>f64</td><td>f64</td><td>f64</td><td>f64</td><td>f64</td><td>f64</td><td>f64</td><td>f64</td></tr></thead><tbody><tr><td>8980</td><td>0.0</td><td>0.0</td><td>0.0</td><td>0.0</td><td>1.0</td><td>0.0</td><td>0.0</td><td>1.0</td><td>0.0</td><td>1.577651</td><td>0.186177</td><td>0.001323</td><td>0.001323</td><td>0.001323</td><td>0.001323</td><td>0.955026</td><td>-0.583419</td><td>-0.704264</td><td>0.298365</td><td>-0.691361</td><td>1.259065</td><td>1.556516</td><td>1.71258</td><td>0.033069</td><td>0.333333</td><td>0.036376</td><td>-0.046483</td><td>-0.312326</td><td>0.913029</td><td>0.306217</td><td>1.025756</td><td>0.081349</td><td>0.478175</td><td>0.675627</td><td>0.699735</td><td>0.256283</td><td>&hellip;</td><td>-1.427834</td><td>0.352513</td><td>0.926257</td><td>0.431383</td><td>-0.476976</td><td>0.500245</td><td>1.784173</td><td>0.029762</td><td>0.294719</td><td>0.51455</td><td>0.446429</td><td>0.466551</td><td>0.085717</td><td>-0.230132</td><td>0.272487</td><td>-0.106894</td><td>0.199735</td><td>0.409392</td><td>0.532717</td><td>0.744048</td><td>0.440476</td><td>-0.654839</td><td>0.699735</td><td>0.699074</td><td>-0.5024</td><td>0.882937</td><td>0.892196</td><td>0.828042</td><td>0.999172</td><td>0.759921</td><td>-0.803127</td><td>0.170966</td><td>-0.751909</td><td>1.0</td><td>0.003541</td><td>0.000161</td><td>0.003068</td></tr><tr><td>8981</td><td>0.0</td><td>0.0</td><td>0.0</td><td>0.0</td><td>1.0</td><td>0.0</td><td>0.0</td><td>1.0</td><td>0.0</td><td>1.575182</td><td>0.185847</td><td>0.000992</td><td>0.000992</td><td>0.000992</td><td>0.000992</td><td>0.955357</td><td>-0.583074</td><td>-0.703759</td><td>0.297608</td><td>-0.504499</td><td>1.193468</td><td>1.554184</td><td>1.640054</td><td>0.032738</td><td>0.333003</td><td>0.036045</td><td>0.073582</td><td>-0.312345</td><td>0.91336</td><td>0.305886</td><td>0.989571</td><td>0.082672</td><td>0.477844</td><td>0.661527</td><td>0.719577</td><td>0.255952</td><td>&hellip;</td><td>-1.37652</td><td>0.953042</td><td>0.386905</td><td>0.523549</td><td>-0.421365</td><td>-0.234829</td><td>1.770175</td><td>0.03373</td><td>0.304496</td><td>0.638228</td><td>0.636905</td><td>1.849101</td><td>0.28169</td><td>-0.041995</td><td>0.448413</td><td>0.094321</td><td>0.215608</td><td>0.409392</td><td>0.597864</td><td>0.872354</td><td>0.691138</td><td>-0.583443</td><td>0.62996</td><td>0.598545</td><td>-0.394268</td><td>0.863757</td><td>0.699074</td><td>0.831349</td><td>1.120336</td><td>0.556217</td><td>-0.686192</td><td>0.141865</td><td>-0.660326</td><td>1.0</td><td>-0.005964</td><td>0.000162</td><td>-0.006437</td></tr><tr><td>8982</td><td>0.0</td><td>0.0</td><td>0.0</td><td>0.0</td><td>1.0</td><td>0.0</td><td>0.0</td><td>0.0</td><td>1.0</td><td>1.57272</td><td>0.185516</td><td>0.000661</td><td>0.000661</td><td>0.000661</td><td>0.000661</td><td>0.955688</td><td>-0.083356</td><td>-0.573546</td><td>0.225822</td><td>-0.393903</td><td>1.123361</td><td>1.551723</td><td>1.562722</td><td>0.032407</td><td>0.332672</td><td>0.035714</td><td>0.033581</td><td>-0.312364</td><td>0.91369</td><td>0.291997</td><td>1.040514</td><td>0.081349</td><td>0.477513</td><td>0.655741</td><td>0.724206</td><td>0.22619</td><td>&hellip;</td><td>-1.34762</td><td>0.210979</td><td>0.635251</td><td>-1.138198</td><td>-0.494248</td><td>-1.042718</td><td>1.754171</td><td>0.032407</td><td>0.257609</td><td>0.082011</td><td>0.152116</td><td>-0.201611</td><td>0.346373</td><td>0.054032</td><td>0.137566</td><td>0.294305</td><td>0.194444</td><td>0.409392</td><td>0.596528</td><td>0.778439</td><td>0.634921</td><td>-0.483236</td><td>0.669974</td><td>0.603836</td><td>-0.17042</td><td>0.848545</td><td>0.647487</td><td>0.832672</td><td>1.088992</td><td>0.665344</td><td>-0.459367</td><td>0.199405</td><td>-0.510979</td><td>1.0</td><td>-0.00741</td><td>0.00016</td><td>-0.007882</td></tr></tbody></table></div>"
      ]
     },
     "execution_count": 42,
     "metadata": {},
     "output_type": "execute_result"
    }
   ],
   "execution_count": 42
  },
  {
   "metadata": {},
   "cell_type": "markdown",
   "source": "# Generating the Train and Test",
   "id": "7a1f8f9e45bf4a02"
  },
  {
   "metadata": {
    "ExecuteTime": {
     "end_time": "2025-10-05T22:59:33.151277Z",
     "start_time": "2025-10-05T22:59:33.124313Z"
    }
   },
   "cell_type": "code",
   "source": [
    "# Join train and test datasets into a single dataframe to ensure consistent preprocessing and feature engineering\n",
    "df: pl.DataFrame = join_train_test_dataframes(train, test)\n",
    "\n",
    "# Apply feature selection, missing value handling, or any custom preprocessing\n",
    "df = create_example_dataset(df=df)\n",
    "\n",
    "# Split the processed dataframe back into train and test sets using the original date_ids\n",
    "train: pl.DataFrame = df.filter(pl.col('date_id').is_in(train.get_column('date_id')))\n",
    "test: pl.DataFrame = df.filter(pl.col('date_id').is_in(test.get_column('date_id')))\n",
    "\n",
    "# Select feature columns for model training (exclude 'date_id' and target)\n",
    "FEATURES: list[str] = [col for col in test.columns if col not in ['date_id', 'target']]\n",
    "\n",
    "# Split datasets into X (features) and y (target), and also get the scaler for standardization\n",
    "dataset: DatasetOutput = split_dataset(train=train, test=test, features=FEATURES)\n",
    "\n",
    "# Extract processed features, target, and scaler for convenience\n",
    "X_train: pl.DataFrame = dataset.X_train\n",
    "X_test: pl.DataFrame = dataset.X_test\n",
    "y_train: pl.DataFrame = dataset.y_train\n",
    "y_test: pl.DataFrame = dataset.y_test\n",
    "scaler: StandardScaler = dataset.scaler"
   ],
   "id": "932827784340f3e5",
   "outputs": [
    {
     "name": "stderr",
     "output_type": "stream",
     "text": [
      "/var/folders/tq/h1v27n6j66s05lq52_nhqd8h0000gn/T/ipykernel_57136/516552350.py:8: DeprecationWarning: `is_in` with a collection of the same datatype is ambiguous and deprecated.\n",
      "Please use `implode` to return to previous behavior.\n",
      "\n",
      "See https://github.com/pola-rs/polars/issues/22149 for more information.\n",
      "  train: pl.DataFrame = df.filter(pl.col('date_id').is_in(train.get_column('date_id')))\n",
      "/var/folders/tq/h1v27n6j66s05lq52_nhqd8h0000gn/T/ipykernel_57136/516552350.py:9: DeprecationWarning: `is_in` with a collection of the same datatype is ambiguous and deprecated.\n",
      "Please use `implode` to return to previous behavior.\n",
      "\n",
      "See https://github.com/pola-rs/polars/issues/22149 for more information.\n",
      "  test: pl.DataFrame = df.filter(pl.col('date_id').is_in(test.get_column('date_id')))\n"
     ]
    }
   ],
   "execution_count": 43
  },
  {
   "metadata": {},
   "cell_type": "markdown",
   "source": "# Fitting the Model",
   "id": "1cdad837b6dc253"
  },
  {
   "metadata": {
    "ExecuteTime": {
     "end_time": "2025-10-05T22:59:33.249030Z",
     "start_time": "2025-10-05T22:59:33.159152Z"
    }
   },
   "cell_type": "code",
   "source": [
    "# Find the optimal alpha using cross-validation\n",
    "model_cv: ElasticNetCV = ElasticNetCV(\n",
    "    **asdict(enet_params)\n",
    ")\n",
    "model_cv.fit(X_train, y_train)\n",
    "\n",
    "# Fit the final model using the best alpha found by cross-validation\n",
    "model: ElasticNet = ElasticNet(alpha=model_cv.alpha_, l1_ratio=enet_params.l1_ratio)\n",
    "model.fit(X_train, y_train)"
   ],
   "id": "11ea635c711fc56b",
   "outputs": [
    {
     "data": {
      "text/plain": [
       "ElasticNet(alpha=0.0003053855508833416)"
      ],
      "text/html": [
       "<style>#sk-container-id-2 {\n",
       "  /* Definition of color scheme common for light and dark mode */\n",
       "  --sklearn-color-text: #000;\n",
       "  --sklearn-color-text-muted: #666;\n",
       "  --sklearn-color-line: gray;\n",
       "  /* Definition of color scheme for unfitted estimators */\n",
       "  --sklearn-color-unfitted-level-0: #fff5e6;\n",
       "  --sklearn-color-unfitted-level-1: #f6e4d2;\n",
       "  --sklearn-color-unfitted-level-2: #ffe0b3;\n",
       "  --sklearn-color-unfitted-level-3: chocolate;\n",
       "  /* Definition of color scheme for fitted estimators */\n",
       "  --sklearn-color-fitted-level-0: #f0f8ff;\n",
       "  --sklearn-color-fitted-level-1: #d4ebff;\n",
       "  --sklearn-color-fitted-level-2: #b3dbfd;\n",
       "  --sklearn-color-fitted-level-3: cornflowerblue;\n",
       "\n",
       "  /* Specific color for light theme */\n",
       "  --sklearn-color-text-on-default-background: var(--sg-text-color, var(--theme-code-foreground, var(--jp-content-font-color1, black)));\n",
       "  --sklearn-color-background: var(--sg-background-color, var(--theme-background, var(--jp-layout-color0, white)));\n",
       "  --sklearn-color-border-box: var(--sg-text-color, var(--theme-code-foreground, var(--jp-content-font-color1, black)));\n",
       "  --sklearn-color-icon: #696969;\n",
       "\n",
       "  @media (prefers-color-scheme: dark) {\n",
       "    /* Redefinition of color scheme for dark theme */\n",
       "    --sklearn-color-text-on-default-background: var(--sg-text-color, var(--theme-code-foreground, var(--jp-content-font-color1, white)));\n",
       "    --sklearn-color-background: var(--sg-background-color, var(--theme-background, var(--jp-layout-color0, #111)));\n",
       "    --sklearn-color-border-box: var(--sg-text-color, var(--theme-code-foreground, var(--jp-content-font-color1, white)));\n",
       "    --sklearn-color-icon: #878787;\n",
       "  }\n",
       "}\n",
       "\n",
       "#sk-container-id-2 {\n",
       "  color: var(--sklearn-color-text);\n",
       "}\n",
       "\n",
       "#sk-container-id-2 pre {\n",
       "  padding: 0;\n",
       "}\n",
       "\n",
       "#sk-container-id-2 input.sk-hidden--visually {\n",
       "  border: 0;\n",
       "  clip: rect(1px 1px 1px 1px);\n",
       "  clip: rect(1px, 1px, 1px, 1px);\n",
       "  height: 1px;\n",
       "  margin: -1px;\n",
       "  overflow: hidden;\n",
       "  padding: 0;\n",
       "  position: absolute;\n",
       "  width: 1px;\n",
       "}\n",
       "\n",
       "#sk-container-id-2 div.sk-dashed-wrapped {\n",
       "  border: 1px dashed var(--sklearn-color-line);\n",
       "  margin: 0 0.4em 0.5em 0.4em;\n",
       "  box-sizing: border-box;\n",
       "  padding-bottom: 0.4em;\n",
       "  background-color: var(--sklearn-color-background);\n",
       "}\n",
       "\n",
       "#sk-container-id-2 div.sk-container {\n",
       "  /* jupyter's `normalize.less` sets `[hidden] { display: none; }`\n",
       "     but bootstrap.min.css set `[hidden] { display: none !important; }`\n",
       "     so we also need the `!important` here to be able to override the\n",
       "     default hidden behavior on the sphinx rendered scikit-learn.org.\n",
       "     See: https://github.com/scikit-learn/scikit-learn/issues/21755 */\n",
       "  display: inline-block !important;\n",
       "  position: relative;\n",
       "}\n",
       "\n",
       "#sk-container-id-2 div.sk-text-repr-fallback {\n",
       "  display: none;\n",
       "}\n",
       "\n",
       "div.sk-parallel-item,\n",
       "div.sk-serial,\n",
       "div.sk-item {\n",
       "  /* draw centered vertical line to link estimators */\n",
       "  background-image: linear-gradient(var(--sklearn-color-text-on-default-background), var(--sklearn-color-text-on-default-background));\n",
       "  background-size: 2px 100%;\n",
       "  background-repeat: no-repeat;\n",
       "  background-position: center center;\n",
       "}\n",
       "\n",
       "/* Parallel-specific style estimator block */\n",
       "\n",
       "#sk-container-id-2 div.sk-parallel-item::after {\n",
       "  content: \"\";\n",
       "  width: 100%;\n",
       "  border-bottom: 2px solid var(--sklearn-color-text-on-default-background);\n",
       "  flex-grow: 1;\n",
       "}\n",
       "\n",
       "#sk-container-id-2 div.sk-parallel {\n",
       "  display: flex;\n",
       "  align-items: stretch;\n",
       "  justify-content: center;\n",
       "  background-color: var(--sklearn-color-background);\n",
       "  position: relative;\n",
       "}\n",
       "\n",
       "#sk-container-id-2 div.sk-parallel-item {\n",
       "  display: flex;\n",
       "  flex-direction: column;\n",
       "}\n",
       "\n",
       "#sk-container-id-2 div.sk-parallel-item:first-child::after {\n",
       "  align-self: flex-end;\n",
       "  width: 50%;\n",
       "}\n",
       "\n",
       "#sk-container-id-2 div.sk-parallel-item:last-child::after {\n",
       "  align-self: flex-start;\n",
       "  width: 50%;\n",
       "}\n",
       "\n",
       "#sk-container-id-2 div.sk-parallel-item:only-child::after {\n",
       "  width: 0;\n",
       "}\n",
       "\n",
       "/* Serial-specific style estimator block */\n",
       "\n",
       "#sk-container-id-2 div.sk-serial {\n",
       "  display: flex;\n",
       "  flex-direction: column;\n",
       "  align-items: center;\n",
       "  background-color: var(--sklearn-color-background);\n",
       "  padding-right: 1em;\n",
       "  padding-left: 1em;\n",
       "}\n",
       "\n",
       "\n",
       "/* Toggleable style: style used for estimator/Pipeline/ColumnTransformer box that is\n",
       "clickable and can be expanded/collapsed.\n",
       "- Pipeline and ColumnTransformer use this feature and define the default style\n",
       "- Estimators will overwrite some part of the style using the `sk-estimator` class\n",
       "*/\n",
       "\n",
       "/* Pipeline and ColumnTransformer style (default) */\n",
       "\n",
       "#sk-container-id-2 div.sk-toggleable {\n",
       "  /* Default theme specific background. It is overwritten whether we have a\n",
       "  specific estimator or a Pipeline/ColumnTransformer */\n",
       "  background-color: var(--sklearn-color-background);\n",
       "}\n",
       "\n",
       "/* Toggleable label */\n",
       "#sk-container-id-2 label.sk-toggleable__label {\n",
       "  cursor: pointer;\n",
       "  display: flex;\n",
       "  width: 100%;\n",
       "  margin-bottom: 0;\n",
       "  padding: 0.5em;\n",
       "  box-sizing: border-box;\n",
       "  text-align: center;\n",
       "  align-items: start;\n",
       "  justify-content: space-between;\n",
       "  gap: 0.5em;\n",
       "}\n",
       "\n",
       "#sk-container-id-2 label.sk-toggleable__label .caption {\n",
       "  font-size: 0.6rem;\n",
       "  font-weight: lighter;\n",
       "  color: var(--sklearn-color-text-muted);\n",
       "}\n",
       "\n",
       "#sk-container-id-2 label.sk-toggleable__label-arrow:before {\n",
       "  /* Arrow on the left of the label */\n",
       "  content: \"▸\";\n",
       "  float: left;\n",
       "  margin-right: 0.25em;\n",
       "  color: var(--sklearn-color-icon);\n",
       "}\n",
       "\n",
       "#sk-container-id-2 label.sk-toggleable__label-arrow:hover:before {\n",
       "  color: var(--sklearn-color-text);\n",
       "}\n",
       "\n",
       "/* Toggleable content - dropdown */\n",
       "\n",
       "#sk-container-id-2 div.sk-toggleable__content {\n",
       "  max-height: 0;\n",
       "  max-width: 0;\n",
       "  overflow: hidden;\n",
       "  text-align: left;\n",
       "  /* unfitted */\n",
       "  background-color: var(--sklearn-color-unfitted-level-0);\n",
       "}\n",
       "\n",
       "#sk-container-id-2 div.sk-toggleable__content.fitted {\n",
       "  /* fitted */\n",
       "  background-color: var(--sklearn-color-fitted-level-0);\n",
       "}\n",
       "\n",
       "#sk-container-id-2 div.sk-toggleable__content pre {\n",
       "  margin: 0.2em;\n",
       "  border-radius: 0.25em;\n",
       "  color: var(--sklearn-color-text);\n",
       "  /* unfitted */\n",
       "  background-color: var(--sklearn-color-unfitted-level-0);\n",
       "}\n",
       "\n",
       "#sk-container-id-2 div.sk-toggleable__content.fitted pre {\n",
       "  /* unfitted */\n",
       "  background-color: var(--sklearn-color-fitted-level-0);\n",
       "}\n",
       "\n",
       "#sk-container-id-2 input.sk-toggleable__control:checked~div.sk-toggleable__content {\n",
       "  /* Expand drop-down */\n",
       "  max-height: 200px;\n",
       "  max-width: 100%;\n",
       "  overflow: auto;\n",
       "}\n",
       "\n",
       "#sk-container-id-2 input.sk-toggleable__control:checked~label.sk-toggleable__label-arrow:before {\n",
       "  content: \"▾\";\n",
       "}\n",
       "\n",
       "/* Pipeline/ColumnTransformer-specific style */\n",
       "\n",
       "#sk-container-id-2 div.sk-label input.sk-toggleable__control:checked~label.sk-toggleable__label {\n",
       "  color: var(--sklearn-color-text);\n",
       "  background-color: var(--sklearn-color-unfitted-level-2);\n",
       "}\n",
       "\n",
       "#sk-container-id-2 div.sk-label.fitted input.sk-toggleable__control:checked~label.sk-toggleable__label {\n",
       "  background-color: var(--sklearn-color-fitted-level-2);\n",
       "}\n",
       "\n",
       "/* Estimator-specific style */\n",
       "\n",
       "/* Colorize estimator box */\n",
       "#sk-container-id-2 div.sk-estimator input.sk-toggleable__control:checked~label.sk-toggleable__label {\n",
       "  /* unfitted */\n",
       "  background-color: var(--sklearn-color-unfitted-level-2);\n",
       "}\n",
       "\n",
       "#sk-container-id-2 div.sk-estimator.fitted input.sk-toggleable__control:checked~label.sk-toggleable__label {\n",
       "  /* fitted */\n",
       "  background-color: var(--sklearn-color-fitted-level-2);\n",
       "}\n",
       "\n",
       "#sk-container-id-2 div.sk-label label.sk-toggleable__label,\n",
       "#sk-container-id-2 div.sk-label label {\n",
       "  /* The background is the default theme color */\n",
       "  color: var(--sklearn-color-text-on-default-background);\n",
       "}\n",
       "\n",
       "/* On hover, darken the color of the background */\n",
       "#sk-container-id-2 div.sk-label:hover label.sk-toggleable__label {\n",
       "  color: var(--sklearn-color-text);\n",
       "  background-color: var(--sklearn-color-unfitted-level-2);\n",
       "}\n",
       "\n",
       "/* Label box, darken color on hover, fitted */\n",
       "#sk-container-id-2 div.sk-label.fitted:hover label.sk-toggleable__label.fitted {\n",
       "  color: var(--sklearn-color-text);\n",
       "  background-color: var(--sklearn-color-fitted-level-2);\n",
       "}\n",
       "\n",
       "/* Estimator label */\n",
       "\n",
       "#sk-container-id-2 div.sk-label label {\n",
       "  font-family: monospace;\n",
       "  font-weight: bold;\n",
       "  display: inline-block;\n",
       "  line-height: 1.2em;\n",
       "}\n",
       "\n",
       "#sk-container-id-2 div.sk-label-container {\n",
       "  text-align: center;\n",
       "}\n",
       "\n",
       "/* Estimator-specific */\n",
       "#sk-container-id-2 div.sk-estimator {\n",
       "  font-family: monospace;\n",
       "  border: 1px dotted var(--sklearn-color-border-box);\n",
       "  border-radius: 0.25em;\n",
       "  box-sizing: border-box;\n",
       "  margin-bottom: 0.5em;\n",
       "  /* unfitted */\n",
       "  background-color: var(--sklearn-color-unfitted-level-0);\n",
       "}\n",
       "\n",
       "#sk-container-id-2 div.sk-estimator.fitted {\n",
       "  /* fitted */\n",
       "  background-color: var(--sklearn-color-fitted-level-0);\n",
       "}\n",
       "\n",
       "/* on hover */\n",
       "#sk-container-id-2 div.sk-estimator:hover {\n",
       "  /* unfitted */\n",
       "  background-color: var(--sklearn-color-unfitted-level-2);\n",
       "}\n",
       "\n",
       "#sk-container-id-2 div.sk-estimator.fitted:hover {\n",
       "  /* fitted */\n",
       "  background-color: var(--sklearn-color-fitted-level-2);\n",
       "}\n",
       "\n",
       "/* Specification for estimator info (e.g. \"i\" and \"?\") */\n",
       "\n",
       "/* Common style for \"i\" and \"?\" */\n",
       "\n",
       ".sk-estimator-doc-link,\n",
       "a:link.sk-estimator-doc-link,\n",
       "a:visited.sk-estimator-doc-link {\n",
       "  float: right;\n",
       "  font-size: smaller;\n",
       "  line-height: 1em;\n",
       "  font-family: monospace;\n",
       "  background-color: var(--sklearn-color-background);\n",
       "  border-radius: 1em;\n",
       "  height: 1em;\n",
       "  width: 1em;\n",
       "  text-decoration: none !important;\n",
       "  margin-left: 0.5em;\n",
       "  text-align: center;\n",
       "  /* unfitted */\n",
       "  border: var(--sklearn-color-unfitted-level-1) 1pt solid;\n",
       "  color: var(--sklearn-color-unfitted-level-1);\n",
       "}\n",
       "\n",
       ".sk-estimator-doc-link.fitted,\n",
       "a:link.sk-estimator-doc-link.fitted,\n",
       "a:visited.sk-estimator-doc-link.fitted {\n",
       "  /* fitted */\n",
       "  border: var(--sklearn-color-fitted-level-1) 1pt solid;\n",
       "  color: var(--sklearn-color-fitted-level-1);\n",
       "}\n",
       "\n",
       "/* On hover */\n",
       "div.sk-estimator:hover .sk-estimator-doc-link:hover,\n",
       ".sk-estimator-doc-link:hover,\n",
       "div.sk-label-container:hover .sk-estimator-doc-link:hover,\n",
       ".sk-estimator-doc-link:hover {\n",
       "  /* unfitted */\n",
       "  background-color: var(--sklearn-color-unfitted-level-3);\n",
       "  color: var(--sklearn-color-background);\n",
       "  text-decoration: none;\n",
       "}\n",
       "\n",
       "div.sk-estimator.fitted:hover .sk-estimator-doc-link.fitted:hover,\n",
       ".sk-estimator-doc-link.fitted:hover,\n",
       "div.sk-label-container:hover .sk-estimator-doc-link.fitted:hover,\n",
       ".sk-estimator-doc-link.fitted:hover {\n",
       "  /* fitted */\n",
       "  background-color: var(--sklearn-color-fitted-level-3);\n",
       "  color: var(--sklearn-color-background);\n",
       "  text-decoration: none;\n",
       "}\n",
       "\n",
       "/* Span, style for the box shown on hovering the info icon */\n",
       ".sk-estimator-doc-link span {\n",
       "  display: none;\n",
       "  z-index: 9999;\n",
       "  position: relative;\n",
       "  font-weight: normal;\n",
       "  right: .2ex;\n",
       "  padding: .5ex;\n",
       "  margin: .5ex;\n",
       "  width: min-content;\n",
       "  min-width: 20ex;\n",
       "  max-width: 50ex;\n",
       "  color: var(--sklearn-color-text);\n",
       "  box-shadow: 2pt 2pt 4pt #999;\n",
       "  /* unfitted */\n",
       "  background: var(--sklearn-color-unfitted-level-0);\n",
       "  border: .5pt solid var(--sklearn-color-unfitted-level-3);\n",
       "}\n",
       "\n",
       ".sk-estimator-doc-link.fitted span {\n",
       "  /* fitted */\n",
       "  background: var(--sklearn-color-fitted-level-0);\n",
       "  border: var(--sklearn-color-fitted-level-3);\n",
       "}\n",
       "\n",
       ".sk-estimator-doc-link:hover span {\n",
       "  display: block;\n",
       "}\n",
       "\n",
       "/* \"?\"-specific style due to the `<a>` HTML tag */\n",
       "\n",
       "#sk-container-id-2 a.estimator_doc_link {\n",
       "  float: right;\n",
       "  font-size: 1rem;\n",
       "  line-height: 1em;\n",
       "  font-family: monospace;\n",
       "  background-color: var(--sklearn-color-background);\n",
       "  border-radius: 1rem;\n",
       "  height: 1rem;\n",
       "  width: 1rem;\n",
       "  text-decoration: none;\n",
       "  /* unfitted */\n",
       "  color: var(--sklearn-color-unfitted-level-1);\n",
       "  border: var(--sklearn-color-unfitted-level-1) 1pt solid;\n",
       "}\n",
       "\n",
       "#sk-container-id-2 a.estimator_doc_link.fitted {\n",
       "  /* fitted */\n",
       "  border: var(--sklearn-color-fitted-level-1) 1pt solid;\n",
       "  color: var(--sklearn-color-fitted-level-1);\n",
       "}\n",
       "\n",
       "/* On hover */\n",
       "#sk-container-id-2 a.estimator_doc_link:hover {\n",
       "  /* unfitted */\n",
       "  background-color: var(--sklearn-color-unfitted-level-3);\n",
       "  color: var(--sklearn-color-background);\n",
       "  text-decoration: none;\n",
       "}\n",
       "\n",
       "#sk-container-id-2 a.estimator_doc_link.fitted:hover {\n",
       "  /* fitted */\n",
       "  background-color: var(--sklearn-color-fitted-level-3);\n",
       "}\n",
       "</style><div id=\"sk-container-id-2\" class=\"sk-top-container\"><div class=\"sk-text-repr-fallback\"><pre>ElasticNet(alpha=0.0003053855508833416)</pre><b>In a Jupyter environment, please rerun this cell to show the HTML representation or trust the notebook. <br />On GitHub, the HTML representation is unable to render, please try loading this page with nbviewer.org.</b></div><div class=\"sk-container\" hidden><div class=\"sk-item\"><div class=\"sk-estimator fitted sk-toggleable\"><input class=\"sk-toggleable__control sk-hidden--visually\" id=\"sk-estimator-id-2\" type=\"checkbox\" checked><label for=\"sk-estimator-id-2\" class=\"sk-toggleable__label fitted sk-toggleable__label-arrow\"><div><div>ElasticNet</div></div><div><a class=\"sk-estimator-doc-link fitted\" rel=\"noreferrer\" target=\"_blank\" href=\"https://scikit-learn.org/1.6/modules/generated/sklearn.linear_model.ElasticNet.html\">?<span>Documentation for ElasticNet</span></a><span class=\"sk-estimator-doc-link fitted\">i<span>Fitted</span></span></div></label><div class=\"sk-toggleable__content fitted\"><pre>ElasticNet(alpha=0.0003053855508833416)</pre></div> </div></div></div></div>"
      ]
     },
     "execution_count": 44,
     "metadata": {},
     "output_type": "execute_result"
    }
   ],
   "execution_count": 44
  },
  {
   "metadata": {},
   "cell_type": "markdown",
   "source": "# Prediction Function",
   "id": "5a4554c85a8a08dd"
  },
  {
   "metadata": {
    "ExecuteTime": {
     "end_time": "2025-10-05T22:59:33.285820Z",
     "start_time": "2025-10-05T22:59:33.282092Z"
    }
   },
   "cell_type": "code",
   "source": [
    "def predict(test: pl.DataFrame) -> float:\n",
    "    test = test.rename({'lagged_forward_returns':'target'})\n",
    "    df: pl.DataFrame = create_example_dataset(test)\n",
    "    X_test: pl.DataFrame = df.select(FEATURES)\n",
    "    X_test_scaled_np: np.ndarray = scaler.transform(X_test)\n",
    "    X_test: pl.DataFrame = pl.from_numpy(X_test_scaled_np, schema=FEATURES)\n",
    "    raw_pred: float = model.predict(X_test)[0]\n",
    "    return convert_ret_to_signal(raw_pred, ret_signal_params)"
   ],
   "id": "ab9974521898042a",
   "outputs": [],
   "execution_count": 45
  },
  {
   "metadata": {
    "ExecuteTime": {
     "end_time": "2025-10-05T22:59:33.290677Z",
     "start_time": "2025-10-05T22:59:33.288507Z"
    }
   },
   "cell_type": "code",
   "source": [
    "def predict_batch(test: pl.DataFrame) -> np.ndarray:\n",
    "    df_test = create_example_dataset(test)\n",
    "    X_test = df_test.select(FEATURES)\n",
    "    X_test_scaled = scaler.transform(X_test)\n",
    "    raw_preds = model.predict(X_test_scaled)\n",
    "    signals = np.array([convert_ret_to_signal(p, ret_signal_params) for p in raw_preds])\n",
    "    return signals"
   ],
   "id": "bab7683ae706c205",
   "outputs": [],
   "execution_count": 46
  },
  {
   "metadata": {},
   "cell_type": "markdown",
   "source": "# Result",
   "id": "3c35cecf9648eb0e"
  },
  {
   "metadata": {
    "ExecuteTime": {
     "end_time": "2025-10-05T22:59:33.361943Z",
     "start_time": "2025-10-05T22:59:33.294371Z"
    }
   },
   "cell_type": "code",
   "source": [
    "# Generate trading signals for the test set\n",
    "signals = predict_batch(test)\n",
    "\n",
    "# Get actual returns from the test set\n",
    "returns = create_example_dataset(test)['target'].to_numpy()\n",
    "\n",
    "# Calculate strategy returns\n",
    "strategy_returns = signals * returns\n",
    "\n",
    "# Calculate cumulative returns\n",
    "cumulative_returns = np.cumsum(strategy_returns)\n",
    "\n",
    "# Calculate annualized Sharpe ratio\n",
    "sharpe = strategy_returns.mean() / strategy_returns.std() * np.sqrt(252)\n",
    "print(f\"Strategy Sharpe Ratio: {sharpe:.2f}\")\n",
    "\n",
    "# Plot cumulative returns\n",
    "import matplotlib.pyplot as plt\n",
    "plt.plot(cumulative_returns)\n",
    "plt.title(\"Cumulative Strategy Returns\")\n",
    "plt.xlabel(\"Sample Index\")\n",
    "plt.ylabel(\"Cumulative Returns\")\n",
    "plt.show()"
   ],
   "id": "9e58b359d844d2ef",
   "outputs": [
    {
     "name": "stderr",
     "output_type": "stream",
     "text": [
      "/Users/yarusu/Library/Python/3.9/lib/python/site-packages/sklearn/utils/validation.py:2739: UserWarning: X does not have valid feature names, but ElasticNet was fitted with feature names\n",
      "  warnings.warn(\n"
     ]
    },
    {
     "name": "stdout",
     "output_type": "stream",
     "text": [
      "Strategy Sharpe Ratio: 5.14\n"
     ]
    },
    {
     "data": {
      "text/plain": [
       "<Figure size 640x480 with 1 Axes>"
      ],
      "image/png": "[encoded data removed]"
     },
     "metadata": {},
     "output_type": "display_data"
    }
   ],
   "execution_count": 47
  }
 ],
 "metadata": {
  "kernelspec": {
   "display_name": "Python 3",
   "language": "python",
   "name": "python3"
  },
  "language_info": {
   "codemirror_mode": {
    "name": "ipython",
    "version": 2
   },
   "file_extension": ".py",
   "mimetype": "text/x-python",
   "name": "python",
   "nbconvert_exporter": "python",
   "pygments_lexer": "ipython2",
   "version": "2.7.6"
  }
 },
 "nbformat": 4,
 "nbformat_minor": 5
}
